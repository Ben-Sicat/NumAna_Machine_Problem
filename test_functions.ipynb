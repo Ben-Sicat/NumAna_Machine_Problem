{
 "cells": [
  {
   "cell_type": "code",
   "execution_count": 23,
   "metadata": {},
   "outputs": [],
   "source": [
    "import numpy as np\n",
    "import fractions\n",
    "import math"
   ]
  },
  {
   "cell_type": "code",
   "execution_count": 24,
   "metadata": {},
   "outputs": [],
   "source": [
    "def __init__(self):\n",
    "    self.is_fraction = False\n",
    "    self.is_euler = False\n",
    "    self.is_pi = False\n",
    "    self.is_sin = False\n",
    "    self.is_cos = False\n",
    "    self.is_tan = False\n",
    "    self.dict = {}"
   ]
  },
  {
   "cell_type": "code",
   "execution_count": 25,
   "metadata": {},
   "outputs": [],
   "source": [
    "def iterate_equation(self, equation):\n",
    "    if \"/\" in equation:\n",
    "        self.is_fraction = True\n",
    "    "
   ]
  },
  {
   "cell_type": "code",
   "execution_count": 26,
   "metadata": {},
   "outputs": [],
   "source": [
    "def calc_fraction(self, numerator_1, denominator_1, numerator_2, denominator_2):\n",
    "    f1 = fractions.Fraction(numerator_1, denominator_1)\n",
    "    f2 = fractions.Fraction(numerator_2, denominator_2)\n",
    "\n",
    "\n",
    "    match self.operator:\n",
    "        case \"/\":\n",
    "            result = f1 / f2\n",
    "        case \"+\":\n",
    "            result = f1 + f2\n",
    "        case \"-\":\n",
    "            result = f1-f2\n",
    "        case \"*\":\n",
    "            result = f1*f2\n",
    "        \n",
    "    return result\n",
    "\n"
   ]
  },
  {
   "cell_type": "code",
   "execution_count": 27,
   "metadata": {},
   "outputs": [
    {
     "name": "stdout",
     "output_type": "stream",
     "text": [
      "2.718281828459045\n"
     ]
    },
    {
     "data": {
      "text/plain": [
       "2.718281828459045"
      ]
     },
     "execution_count": 27,
     "metadata": {},
     "output_type": "execute_result"
    }
   ],
   "source": [
    "def euler_number(exponent):\n",
    "    temp = np.exp(exponent)\n",
    "    print(temp)\n",
    "    return temp\n",
    "euler_number(1)"
   ]
  },
  {
   "cell_type": "code",
   "execution_count": 28,
   "metadata": {},
   "outputs": [],
   "source": [
    "def pi(exponent = 1):\n",
    "    temp = np.pi\n",
    "    # print(temp)\n",
    "    while exponent > 1:\n",
    "        temp = temp * temp\n",
    "        exponent = exponent - exponent\n",
    "    return temp"
   ]
  },
  {
   "cell_type": "code",
   "execution_count": 29,
   "metadata": {},
   "outputs": [],
   "source": [
    "def relative_error(self, true_value, approximated_value):\n",
    "    relative_e = np.absolute((true_value - approximated_value)/true_value)\n",
    "    relative_e = relative_e * 100\n",
    "    return relative_e"
   ]
  },
  {
   "cell_type": "code",
   "execution_count": 30,
   "metadata": {},
   "outputs": [],
   "source": [
    "def chopping(self, num, x):\n",
    "\n",
    "    chopped_num = \"{:.f}\".format(num)[: -1]\n",
    "    return chopped_num"
   ]
  },
  {
   "cell_type": "code",
   "execution_count": 31,
   "metadata": {},
   "outputs": [],
   "source": [
    "def rounding(self, num, x):\n",
    "    rounded_num = round(num, 4)\n",
    "\n",
    "    return rounded_num"
   ]
  }
 ],
 "metadata": {
  "kernelspec": {
   "display_name": "Python 3 (ipykernel)",
   "language": "python",
   "name": "python3"
  },
  "language_info": {
   "codemirror_mode": {
    "name": "ipython",
    "version": 3
   },
   "file_extension": ".py",
   "mimetype": "text/x-python",
   "name": "python",
   "nbconvert_exporter": "python",
   "pygments_lexer": "ipython3",
   "version": "3.10.4"
  },
  "orig_nbformat": 4
 },
 "nbformat": 4,
 "nbformat_minor": 2
}
